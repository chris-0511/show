{
 "cells": [
  {
   "cell_type": "markdown",
   "metadata": {},
   "source": [
    "# 匯入函式庫"
   ]
  },
  {
   "cell_type": "code",
   "execution_count": 10,
   "metadata": {},
   "outputs": [],
   "source": [
    "from collections import Counter\n",
    "import jieba\n",
    "jieba.set_dictionary('dict.txt')  # 如果是使用繁體文字，請記得去下載繁體字典來使用\n",
    "import numpy as np\n",
    "import pandas as pd\n",
    "from numpy.linalg import norm"
   ]
  },
  {
   "cell_type": "markdown",
   "metadata": {},
   "source": [
    "# 匯入資料"
   ]
  },
  {
   "cell_type": "code",
   "execution_count": 11,
   "metadata": {
    "scrolled": false
   },
   "outputs": [
    {
     "data": {
      "text/html": [
       "<div>\n",
       "<style scoped>\n",
       "    .dataframe tbody tr th:only-of-type {\n",
       "        vertical-align: middle;\n",
       "    }\n",
       "\n",
       "    .dataframe tbody tr th {\n",
       "        vertical-align: top;\n",
       "    }\n",
       "\n",
       "    .dataframe thead th {\n",
       "        text-align: right;\n",
       "    }\n",
       "</style>\n",
       "<table border=\"1\" class=\"dataframe\">\n",
       "  <thead>\n",
       "    <tr style=\"text-align: right;\">\n",
       "      <th></th>\n",
       "      <th>question</th>\n",
       "      <th>ans</th>\n",
       "    </tr>\n",
       "  </thead>\n",
       "  <tbody>\n",
       "    <tr>\n",
       "      <th>0</th>\n",
       "      <td>小孩出生後應於何時申請育兒津貼?</td>\n",
       "      <td>1.幼兒家長在戶政事務所完成新生兒出生登記後，即可向所轄區公所社政課提出育兒津貼申請。2.在...</td>\n",
       "    </tr>\n",
       "    <tr>\n",
       "      <th>1</th>\n",
       "      <td>小孩出生後應於何時申請育兒津貼?</td>\n",
       "      <td>隨時提出;津貼經審查通過後，追溯自受理申請之當月起發給。兒童出生後六十日內向戶政事務所完成出...</td>\n",
       "    </tr>\n",
       "    <tr>\n",
       "      <th>2</th>\n",
       "      <td>育兒津貼申請應備文件為何?</td>\n",
       "      <td>申請資料應備齊:(一)兒童之戶口名簿影本。(二)申請人之郵局存摺封面影本。(三)父母雙方身分...</td>\n",
       "    </tr>\n",
       "    <tr>\n",
       "      <th>3</th>\n",
       "      <td>若民眾夫妻雙方均失業，是否可申請家庭育兒津貼費用補助</td>\n",
       "      <td>一、育兒津貼補助對象：1.育有二足歲以下兒童。2.兒童之父母至少一方因育兒需要，致未能就業者...</td>\n",
       "    </tr>\n",
       "    <tr>\n",
       "      <th>4</th>\n",
       "      <td>育兒津貼補助對象為何？</td>\n",
       "      <td>育兒津貼補助對象，應符合下列規定：(一)育有二足歲以下兒童。(二)兒童之父母(或監護人)至少...</td>\n",
       "    </tr>\n",
       "  </tbody>\n",
       "</table>\n",
       "</div>"
      ],
      "text/plain": [
       "                     question  \\\n",
       "0            小孩出生後應於何時申請育兒津貼?   \n",
       "1            小孩出生後應於何時申請育兒津貼?   \n",
       "2               育兒津貼申請應備文件為何?   \n",
       "3  若民眾夫妻雙方均失業，是否可申請家庭育兒津貼費用補助   \n",
       "4                 育兒津貼補助對象為何？   \n",
       "\n",
       "                                                 ans  \n",
       "0  1.幼兒家長在戶政事務所完成新生兒出生登記後，即可向所轄區公所社政課提出育兒津貼申請。2.在...  \n",
       "1  隨時提出;津貼經審查通過後，追溯自受理申請之當月起發給。兒童出生後六十日內向戶政事務所完成出...  \n",
       "2  申請資料應備齊:(一)兒童之戶口名簿影本。(二)申請人之郵局存摺封面影本。(三)父母雙方身分...  \n",
       "3  一、育兒津貼補助對象：1.育有二足歲以下兒童。2.兒童之父母至少一方因育兒需要，致未能就業者...  \n",
       "4  育兒津貼補助對象，應符合下列規定：(一)育有二足歲以下兒童。(二)兒童之父母(或監護人)至少...  "
      ]
     },
     "execution_count": 11,
     "metadata": {},
     "output_type": "execute_result"
    }
   ],
   "source": [
    "# 把檔案讀出來(原始資料: https://society.hccg.gov.tw/ch/home.jsp?id=43&parentpath=0,5)\n",
    "df_QA = pd.read_json('ProcessedData.json', encoding='utf8')\n",
    "# 使用到question跟ans這兩個欄位\n",
    "df_question = df_QA[['question', 'ans']].copy()  ## 不要更動到原始的DataFrame\n",
    "df_question.drop_duplicates(inplace=True)  ## 丟掉重複的資料\n",
    "df_question.head(5)  ## show出來"
   ]
  },
  {
   "cell_type": "markdown",
   "metadata": {},
   "source": [
    "# 資料前處理"
   ]
  },
  {
   "cell_type": "code",
   "execution_count": 12,
   "metadata": {},
   "outputs": [
    {
     "name": "stderr",
     "output_type": "stream",
     "text": [
      "Building prefix dict from C:\\Users\\ntut17\\Desktop\\NLP\\dict.txt ...\n",
      "Loading model from cache C:\\Users\\ntut17\\AppData\\Local\\Temp\\jieba.u117617a9354c14946ff2f60642613b5f.cache\n",
      "Loading model cost 0.434 seconds.\n",
      "Prefix dict has been built successfully.\n"
     ]
    },
    {
     "name": "stdout",
     "output_type": "stream",
     "text": [
      "question                                      小孩出生後應於何時申請育兒津貼?\n",
      "ans          1.幼兒家長在戶政事務所完成新生兒出生登記後，即可向所轄區公所社政課提出育兒津貼申請。2.在...\n",
      "processed                 [小孩, 出生, 後, 應, 於, 何時, 申請, 育兒, 津貼, ?]\n",
      "Name: 0, dtype: object\n"
     ]
    },
    {
     "data": {
      "text/html": [
       "<div>\n",
       "<style scoped>\n",
       "    .dataframe tbody tr th:only-of-type {\n",
       "        vertical-align: middle;\n",
       "    }\n",
       "\n",
       "    .dataframe tbody tr th {\n",
       "        vertical-align: top;\n",
       "    }\n",
       "\n",
       "    .dataframe thead th {\n",
       "        text-align: right;\n",
       "    }\n",
       "</style>\n",
       "<table border=\"1\" class=\"dataframe\">\n",
       "  <thead>\n",
       "    <tr style=\"text-align: right;\">\n",
       "      <th></th>\n",
       "      <th>question</th>\n",
       "      <th>ans</th>\n",
       "      <th>processed</th>\n",
       "    </tr>\n",
       "  </thead>\n",
       "  <tbody>\n",
       "    <tr>\n",
       "      <th>0</th>\n",
       "      <td>小孩出生後應於何時申請育兒津貼?</td>\n",
       "      <td>1.幼兒家長在戶政事務所完成新生兒出生登記後，即可向所轄區公所社政課提出育兒津貼申請。2.在...</td>\n",
       "      <td>[小孩, 出生, 後, 應, 於, 何時, 申請, 育兒, 津貼, ?]</td>\n",
       "    </tr>\n",
       "    <tr>\n",
       "      <th>1</th>\n",
       "      <td>小孩出生後應於何時申請育兒津貼?</td>\n",
       "      <td>隨時提出;津貼經審查通過後，追溯自受理申請之當月起發給。兒童出生後六十日內向戶政事務所完成出...</td>\n",
       "      <td>[小孩, 出生, 後, 應, 於, 何時, 申請, 育兒, 津貼, ?]</td>\n",
       "    </tr>\n",
       "    <tr>\n",
       "      <th>2</th>\n",
       "      <td>育兒津貼申請應備文件為何?</td>\n",
       "      <td>申請資料應備齊:(一)兒童之戶口名簿影本。(二)申請人之郵局存摺封面影本。(三)父母雙方身分...</td>\n",
       "      <td>[育兒, 津貼, 申請, 應, 備, 文件, 為何, ?]</td>\n",
       "    </tr>\n",
       "    <tr>\n",
       "      <th>3</th>\n",
       "      <td>若民眾夫妻雙方均失業，是否可申請家庭育兒津貼費用補助</td>\n",
       "      <td>一、育兒津貼補助對象：1.育有二足歲以下兒童。2.兒童之父母至少一方因育兒需要，致未能就業者...</td>\n",
       "      <td>[若, 民眾, 夫妻, 雙方, 均, 失業, ，, 是否, 可, 申請, 家庭, 育兒, 津...</td>\n",
       "    </tr>\n",
       "    <tr>\n",
       "      <th>4</th>\n",
       "      <td>育兒津貼補助對象為何？</td>\n",
       "      <td>育兒津貼補助對象，應符合下列規定：(一)育有二足歲以下兒童。(二)兒童之父母(或監護人)至少...</td>\n",
       "      <td>[育兒, 津貼, 貼補, 補助, 對象, 為何, ？]</td>\n",
       "    </tr>\n",
       "  </tbody>\n",
       "</table>\n",
       "</div>"
      ],
      "text/plain": [
       "                     question  \\\n",
       "0            小孩出生後應於何時申請育兒津貼?   \n",
       "1            小孩出生後應於何時申請育兒津貼?   \n",
       "2               育兒津貼申請應備文件為何?   \n",
       "3  若民眾夫妻雙方均失業，是否可申請家庭育兒津貼費用補助   \n",
       "4                 育兒津貼補助對象為何？   \n",
       "\n",
       "                                                 ans  \\\n",
       "0  1.幼兒家長在戶政事務所完成新生兒出生登記後，即可向所轄區公所社政課提出育兒津貼申請。2.在...   \n",
       "1  隨時提出;津貼經審查通過後，追溯自受理申請之當月起發給。兒童出生後六十日內向戶政事務所完成出...   \n",
       "2  申請資料應備齊:(一)兒童之戶口名簿影本。(二)申請人之郵局存摺封面影本。(三)父母雙方身分...   \n",
       "3  一、育兒津貼補助對象：1.育有二足歲以下兒童。2.兒童之父母至少一方因育兒需要，致未能就業者...   \n",
       "4  育兒津貼補助對象，應符合下列規定：(一)育有二足歲以下兒童。(二)兒童之父母(或監護人)至少...   \n",
       "\n",
       "                                           processed  \n",
       "0               [小孩, 出生, 後, 應, 於, 何時, 申請, 育兒, 津貼, ?]  \n",
       "1               [小孩, 出生, 後, 應, 於, 何時, 申請, 育兒, 津貼, ?]  \n",
       "2                      [育兒, 津貼, 申請, 應, 備, 文件, 為何, ?]  \n",
       "3  [若, 民眾, 夫妻, 雙方, 均, 失業, ，, 是否, 可, 申請, 家庭, 育兒, 津...  \n",
       "4                        [育兒, 津貼, 貼補, 補助, 對象, 為何, ？]  "
      ]
     },
     "execution_count": 12,
     "metadata": {},
     "output_type": "execute_result"
    }
   ],
   "source": [
    "#前處理\n",
    "all_terms = []\n",
    "def preprocess(item):  ##定義前處理的function\n",
    "    terms = [t for t in jieba.cut(item, cut_all=True)]  ## 把全切分模式打開，可以比對的詞彙比較多\n",
    "    all_terms.extend(terms)  ## 收集所有出現過的字\n",
    "    return terms\n",
    "\n",
    "df_question['processed'] = df_question['question'].apply(preprocess)\n",
    "print(df_question.iloc[0])\n",
    "\n",
    "df_question.head()"
   ]
  },
  {
   "cell_type": "markdown",
   "metadata": {},
   "source": [
    "# 建立詞彙表"
   ]
  },
  {
   "cell_type": "code",
   "execution_count": 13,
   "metadata": {
    "scrolled": true
   },
   "outputs": [
    {
     "name": "stdout",
     "output_type": "stream",
     "text": [
      "len(termindex) 1038\n",
      "['', '餐食', '放', '傷病', '似乎', '加害', '暫行', '租金', '留職', '弱勢']\n"
     ]
    }
   ],
   "source": [
    "# 建立termindex: 將all_terms取出不重複的詞彙，並轉換型別為list(避免順序亂掉)\n",
    "termindex = list(set(all_terms))\n",
    "\n",
    "print(\"len(termindex)\", len(termindex))\n",
    "print(termindex[:10])"
   ]
  },
  {
   "cell_type": "markdown",
   "metadata": {},
   "source": [
    "# 計算IDF"
   ]
  },
  {
   "cell_type": "code",
   "execution_count": 14,
   "metadata": {},
   "outputs": [
    {
     "name": "stdout",
     "output_type": "stream",
     "text": [
      "1038\n",
      "['', '餐食', '放', '傷病', '似乎', '加害', '暫行', '租金', '留職', '弱勢']\n",
      "[4.177459468932607, 5.093750200806762, 5.786897381366708, 5.786897381366708, 5.786897381366708, 3.8409872323113943, 5.786897381366708, 5.786897381366708, 5.786897381366708, 4.688285092698598]\n"
     ]
    }
   ],
   "source": [
    "# 建立IDF vector\n",
    "Doc_Length = len(df_question)  ## 計算出共有幾篇文章\n",
    "Idf_vector = []  ## 初始化IDF向量\n",
    "for term in termindex:  ## 對index中的詞彙跑回圈\n",
    "    num_of_doc_contains_term = 0  ## 計算有機篇文章出現過這個詞彙\n",
    "    for terms in df_question['processed']:\n",
    "        if term in terms:\n",
    "            num_of_doc_contains_term += 1\n",
    "    idf = np.log(Doc_Length/num_of_doc_contains_term)  ## 計算該詞彙的IDF值\n",
    "    Idf_vector.append(idf)\n",
    "print(len(Idf_vector))\n",
    "print(termindex[:10])\n",
    "print(Idf_vector[:10])"
   ]
  },
  {
   "cell_type": "markdown",
   "metadata": {},
   "source": [
    "# 計算TF"
   ]
  },
  {
   "cell_type": "code",
   "execution_count": 15,
   "metadata": {},
   "outputs": [
    {
     "data": {
      "text/plain": [
       "100    [0.0, 0.0, 0.0, 0.0, 0.0, 0.0, 0.0, 0.0, 0.0, ...\n",
       "101    [0.0, 0.0, 0.0, 0.0, 0.0, 0.0, 0.0, 0.0, 0.0, ...\n",
       "102    [0.0, 0.0, 0.0, 0.0, 0.0, 0.0, 0.0, 0.0, 0.0, ...\n",
       "103    [0.0, 0.0, 0.0, 0.0, 0.0, 0.0, 0.0, 0.0, 0.0, ...\n",
       "104    [0.0, 0.0, 0.0, 0.0, 0.0, 0.0, 0.0, 0.0, 0.0, ...\n",
       "105    [0.0, 0.0, 0.0, 0.0, 0.0, 0.0, 0.0, 0.0, 0.0, ...\n",
       "106    [0.0, 0.0, 0.0, 0.0, 0.0, 0.0, 0.0, 0.0, 0.0, ...\n",
       "107    [0.0, 0.0, 0.0, 0.0, 0.0, 0.0, 0.0, 0.0, 0.0, ...\n",
       "108    [0.0, 0.0, 0.0, 0.0, 0.0, 0.0, 0.0, 0.0, 0.0, ...\n",
       "109    [0.0, 0.0, 0.0, 0.0, 0.0, 0.0, 0.0, 0.0, 0.0, ...\n",
       "110    [0.0, 0.0, 0.0, 0.0, 0.0, 0.0, 0.0, 0.0, 0.0, ...\n",
       "111    [0.0, 0.0, 0.0, 0.0, 0.0, 0.0, 0.0, 0.0, 0.0, ...\n",
       "112    [0.0, 0.0, 0.0, 0.0, 0.0, 0.0, 0.0, 0.0, 0.0, ...\n",
       "113    [0.0, 0.0, 0.0, 0.0, 0.0, 0.0, 0.0, 0.0, 0.0, ...\n",
       "114    [0.0, 0.0, 0.0, 0.0, 0.0, 0.0, 0.0, 0.0, 0.0, ...\n",
       "115    [0.0, 0.0, 0.0, 0.0, 0.0, 0.0, 0.0, 0.0, 0.0, ...\n",
       "116    [0.0, 5.093750200806762, 0.0, 0.0, 0.0, 0.0, 0...\n",
       "117    [0.0, 0.0, 0.0, 0.0, 0.0, 0.0, 0.0, 0.0, 0.0, ...\n",
       "118    [0.0, 0.0, 0.0, 0.0, 0.0, 0.0, 0.0, 0.0, 0.0, ...\n",
       "119    [0.0, 0.0, 0.0, 0.0, 0.0, 0.0, 0.0, 0.0, 0.0, ...\n",
       "Name: vector, dtype: object"
      ]
     },
     "execution_count": 15,
     "metadata": {},
     "output_type": "execute_result"
    }
   ],
   "source": [
    "# 建立document vector\n",
    "def terms_to_vector(terms):  ## 定義把terms轉換成向量的function\n",
    "    vector = np.zeros_like(termindex, dtype=np.float32)  \n",
    "    \n",
    "    for term, count in Counter(terms).items():\n",
    "        # 計算vector上每一個字的tf值\n",
    "        vector[termindex.index(term)] = count\n",
    "    # 計算tfidf，element-wise的將vector與Idf_vector相乘\n",
    "    vector = vector * Idf_vector\n",
    "    return vector\n",
    "\n",
    "\n",
    "\n",
    "df_question['vector'] = df_question['processed'].apply(terms_to_vector)  ## 將上面定義的function，套用在每一筆資料的terms欄位上\n",
    "df_question['vector'][100:120]"
   ]
  },
  {
   "cell_type": "markdown",
   "metadata": {},
   "source": [
    "# 計算餘弦相似性"
   ]
  },
  {
   "cell_type": "code",
   "execution_count": 16,
   "metadata": {},
   "outputs": [
    {
     "name": "stdout",
     "output_type": "stream",
     "text": [
      "小孩出生後應於何時申請育兒津貼?\n",
      "育兒津貼申請應備文件為何?\n",
      "親戚朋友托育，是否也可以領補助呢？\n",
      "0.3123460493778919\n",
      "0.0\n"
     ]
    }
   ],
   "source": [
    "\n",
    "\n",
    "def cosine_similarity(vector1, vector2):  ## 定義cosine相似度的計算公式\n",
    "    score = np.dot(vector1, vector2)  / (norm(vector1) * norm(vector2))\n",
    "    return score#越大越像\n",
    "\n",
    "sentence1 = df_question.loc[0]  ##取出第零個的問題\n",
    "sentence2 = df_question.loc[2]  ##取出第二個的問題\n",
    "sentence10 = df_question.loc[10]\n",
    "print(sentence1['question'])\n",
    "print(sentence2['question'])\n",
    "print(sentence10['question'])\n",
    "\n",
    "print(cosine_similarity(sentence1['vector'], sentence2['vector']))  ##計算兩者的相似度\n",
    "print(cosine_similarity(sentence1['vector'], sentence10['vector']))  ##計算兩者的相似度\n"
   ]
  },
  {
   "cell_type": "markdown",
   "metadata": {},
   "source": [
    "# 資料檢索"
   ]
  },
  {
   "cell_type": "code",
   "execution_count": 17,
   "metadata": {},
   "outputs": [
    {
     "name": "stdout",
     "output_type": "stream",
     "text": [
      "Float64Index([100.0, 111.0, 321.0], dtype='float64')\n",
      "100.0    我已經年滿65歲領有國民年金老人年金及基本保證年金3628元，因家境清寒還可以再申請中低收入...\n",
      "111.0                            新竹市老人一般可領老人津貼6628元，該如何申請？\n",
      "321.0           國民年金保險被保險人如果是家庭收入較低者，國民年金保險費是否可以減免？補助標準為何？\n",
      "Name: question, dtype: object\n"
     ]
    }
   ],
   "source": [
    "def retrieve(testing_sentence, return_num=3):  ## 定義出檢索引擎，找出前3相關\n",
    "    testing_vector = terms_to_vector(preprocess(testing_sentence))  ## 把剛剛的前處理、轉換成向量的function，應用在使用者輸入的問題上\n",
    "    idx_score_mapping = [(idx, cosine_similarity(testing_vector, vec)) for idx, vec in enumerate(df_question['vector'])]\n",
    "    top3_idxs = np.array(sorted(idx_score_mapping, key=lambda x:x[1], reverse=True))[:3, 0]\n",
    "    return df_question.loc[top3_idxs, ['question', 'ans']]\n",
    "\n",
    "idxs = retrieve(\"老人年金\").index\n",
    "print(idxs)\n",
    "# Float64Index([100.0, 111.0, 321.0], dtype='float64')\n",
    "print(df_question.loc[idxs, 'question'])"
   ]
  }
 ],
 "metadata": {
  "kernelspec": {
   "display_name": "Python 3",
   "language": "python",
   "name": "python3"
  },
  "language_info": {
   "codemirror_mode": {
    "name": "ipython",
    "version": 3
   },
   "file_extension": ".py",
   "mimetype": "text/x-python",
   "name": "python",
   "nbconvert_exporter": "python",
   "pygments_lexer": "ipython3",
   "version": "3.7.9"
  }
 },
 "nbformat": 4,
 "nbformat_minor": 2
}
